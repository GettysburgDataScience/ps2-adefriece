{
 "cells": [
  {
   "cell_type": "markdown",
   "metadata": {},
   "source": [
    "Aubreigh DeFriece\n",
    " - Collaborator 1\n",
    " - Collaborator 2\n",
    " - etc"
   ]
  },
  {
   "cell_type": "markdown",
   "metadata": {},
   "source": [
    "DS325, Gettysburg College, Professor Eatai Roth\n",
    "# Problem Set 2 - Classification\n",
    "\n",
    "Due Friday Mar 28, 2025 4p\n",
    "\n",
    "Total pts: 30\n",
    "\n",
    "## IMPORTANT INSTRUCTIONS:\n",
    "\n",
    " - When you submit your code, make sure that every cell runs without returning an error.\n",
    " - Once you have the results you need, edit out any extraneous code and outputs.\n",
    " - *Do not rewrite code* if it doesn't need to be rewritten. For example, all the import statements you should need are in the first code block. Do not redo those in your analysis."
   ]
  },
  {
   "cell_type": "code",
   "execution_count": null,
   "metadata": {},
   "outputs": [],
   "source": []
  },
  {
   "cell_type": "markdown",
   "metadata": {},
   "source": [
    "## Problem 1\n",
    "\n",
    "In this problem, you'll be comparing Logistic Regression, Decision Trees, and Random Forests in a task identifying mushrooms as edible or poisonous.\n",
    "The data is imported below and the features and feature values are listed. Notice, they're all letters.\n",
    "\n",
    " - Split the data into targets and features\n",
    " - Decide which features are ordinal or categorical. Refer to the feature descriptions on the [UCI Machine Learning site](https://archive.ics.uci.edu/dataset/73/mushroom) (hint: at least 3 categories are ordinal and others are binary...so you'll use an ordinal encoder)\n",
    " - Encode the features\n",
    " - Train the three models. You will want to use ```LogisticRegressionCV``` and ```GridSearchCV``` to find the best version of each model.\n",
    " - Make predictions with your models.\n",
    " - Show the confusion matrices for each type of model evaluated on the same test set. Label each figure clearly as to which model it is."
   ]
  },
  {
   "cell_type": "code",
   "execution_count": 6,
   "metadata": {},
   "outputs": [
    {
     "name": "stdout",
     "output_type": "stream",
     "text": [
      "  0. type - ['p' 'e']\n",
      "  1. cap_shape - ['x' 'b' 's' 'f' 'k' 'c']\n",
      "  2. cap_surface - ['s' 'y' 'f' 'g']\n",
      "  3. cap_color - ['n' 'y' 'w' 'g' 'e' 'p' 'b' 'u' 'c' 'r']\n",
      "  4. bruises - ['t' 'f']\n",
      "  5. odor - ['p' 'a' 'l' 'n' 'f' 'c' 'y' 's' 'm']\n",
      "  6. gill_attachment - ['f' 'a']\n",
      "  7. gill_spacing - ['c' 'w']\n",
      "  8. gill_size - ['n' 'b']\n",
      "  9. gill_color - ['k' 'n' 'g' 'p' 'w' 'h' 'u' 'e' 'b' 'r' 'y' 'o']\n",
      " 10. stalk_shape - ['e' 't']\n",
      " 11. stalk_root - ['e' 'c' 'b' 'r' '?']\n",
      " 12. stalk_surface_above_ring - ['s' 'f' 'k' 'y']\n",
      " 13. stalk_surface_below_ring - ['s' 'f' 'y' 'k']\n",
      " 14. stalk_color_above_ring - ['w' 'g' 'p' 'n' 'b' 'e' 'o' 'c' 'y']\n",
      " 15. stalk_color_below_ring - ['w' 'p' 'g' 'b' 'n' 'e' 'y' 'o' 'c']\n",
      " 16. veil_type - ['p']\n",
      " 17. veil_color - ['w' 'n' 'o' 'y']\n",
      " 18. ring_number - ['o' 't' 'n']\n",
      " 19. ring_type - ['p' 'e' 'l' 'f' 'n']\n",
      " 20. spore_print_color - ['k' 'n' 'u' 'h' 'w' 'r' 'o' 'y' 'b']\n",
      " 21. population - ['s' 'n' 'a' 'v' 'y' 'c']\n",
      " 22. habitat - ['u' 'g' 'm' 'd' 'p' 'w' 'l']\n"
     ]
    }
   ],
   "source": [
    "import pandas as pd\n",
    "mushrooms_df = pd.read_csv('https://raw.githubusercontent.com/stedy/Machine-Learning-with-R-datasets/refs/heads/master/mushrooms.csv')\n",
    "\n",
    "for k, col in enumerate(mushrooms_df.columns):\n",
    "    print(f'{k:>3}. {col} - {mushrooms_df[col].unique()}')"
   ]
  },
  {
   "cell_type": "code",
   "execution_count": null,
   "metadata": {},
   "outputs": [
    {
     "data": {
      "text/plain": [
       "'your code here. add cells as needed'"
      ]
     },
     "execution_count": 7,
     "metadata": {},
     "output_type": "execute_result"
    }
   ],
   "source": [
    "'''your code here. add cells as needed'''\n",
    "\n",
    "-'gil_attatchement'\n",
    "-'gil_spacing'\n",
    "-'gil_size'\n",
    "-'brusies'\n",
    "-'ring_number'\n",
    "-'population'\n",
    "\n",
    "X_train, X_test, y_train, y_test = train_test_split(X, y)\n",
    "\n",
    "X_train_scaled = ss.fit_transform(X_train)\n",
    "X_test_scaled = ss.fit_transform(X_test)\n",
    "\n",
    "y = \n",
    "\n",
    "\n",
    "\n"
   ]
  },
  {
   "cell_type": "code",
   "execution_count": 12,
   "metadata": {},
   "outputs": [
    {
     "data": {
      "text/plain": [
       "['type',\n",
       " 'cap_shape',\n",
       " 'cap_surface',\n",
       " 'cap_color',\n",
       " 'bruises',\n",
       " 'odor',\n",
       " 'gill_attachment',\n",
       " 'gill_spacing',\n",
       " 'gill_size',\n",
       " 'gill_color',\n",
       " 'stalk_shape',\n",
       " 'stalk_root',\n",
       " 'stalk_surface_above_ring',\n",
       " 'stalk_surface_below_ring',\n",
       " 'stalk_color_above_ring',\n",
       " 'stalk_color_below_ring',\n",
       " 'veil_type',\n",
       " 'veil_color',\n",
       " 'ring_type',\n",
       " 'spore_print_color',\n",
       " 'habitat']"
      ]
     },
     "execution_count": 12,
     "metadata": {},
     "output_type": "execute_result"
    }
   ],
   "source": [
    "y = mushrooms_df['type']\n",
    "X = mushrooms_df.drop(columns = 'type')\n",
    "all_features = list(mushrooms_df.columns)\n",
    "ord_features = ['gil_attachment',\n",
    "                'gil_spacing', \n",
    "                'gil_size', \n",
    "                'brusies', \n",
    "                'ring_number', \n",
    "                'population']\n",
    "\n",
    "cat_features = [col for col in all_features if col not in ord_features]\n",
    "cat_features"
   ]
  },
  {
   "cell_type": "code",
   "execution_count": 13,
   "metadata": {},
   "outputs": [
    {
     "data": {
      "image/png": "[encoded data removed]",
      "text/plain": [
       "<Figure size 1200x400 with 6 Axes>"
      ]
     },
     "metadata": {},
     "output_type": "display_data"
    }
   ],
   "source": [
    "import pandas as pd\n",
    "import numpy as np\n",
    "from sklearn.model_selection import train_test_split, GridSearchCV\n",
    "from sklearn.preprocessing import OrdinalEncoder, OneHotEncoder\n",
    "from sklearn.linear_model import LogisticRegressionCV\n",
    "from sklearn.tree import DecisionTreeClassifier\n",
    "from sklearn.ensemble import RandomForestClassifier\n",
    "from sklearn.metrics import confusion_matrix, ConfusionMatrixDisplay\n",
    "import matplotlib.pyplot as plt\n",
    "\n",
    "# Load the dataset\n",
    "data_url = \"https://archive.ics.uci.edu/ml/machine-learning-databases/mushroom/agaricus-lepiota.data\"\n",
    "columns = [\"class\", \"cap-shape\", \"cap-surface\", \"cap-color\", \"bruises\", \"odor\",\n",
    "           \"gill-attachment\", \"gill-spacing\", \"gill-size\", \"gill-color\",\n",
    "           \"stalk-shape\", \"stalk-root\", \"stalk-surface-above-ring\", \"stalk-surface-below-ring\",\n",
    "           \"stalk-color-above-ring\", \"stalk-color-below-ring\", \"veil-type\", \"veil-color\",\n",
    "           \"ring-number\", \"ring-type\", \"spore-print-color\", \"population\", \"habitat\"]\n",
    "\n",
    "data = pd.read_csv(data_url, names=columns)\n",
    "\n",
    "y = data[\"class\"].map({\"e\": 0, \"p\": 1}) \n",
    "X = data.drop(columns=[\"class\"])\n",
    "\n",
    "ordinal_features = [\"cap-surface\", \"gill-spacing\", \"gill-size\"]\n",
    "ordinal_categories = [['f', 'g', 'y', 's'],  # cap-surface\n",
    "                       ['c', 'w'],           # gill-spacing\n",
    "                       ['n', 'b']]           # gill-size\n",
    "\n",
    "\n",
    "ordinal_encoder = OrdinalEncoder(categories=ordinal_categories)\n",
    "ohe = OneHotEncoder(drop='first') \n",
    "\n",
    "X_ordinal = ordinal_encoder.fit_transform(X[ordinal_features])\n",
    "X_categorical = ohe.fit_transform(X.drop(columns=ordinal_features)).toarray()\n",
    "\n",
    "X_encoded = np.hstack((X_ordinal, X_categorical))\n",
    "\n",
    "\n",
    "X_train, X_test, y_train, y_test = train_test_split(X_encoded, y, test_size=0.2, random_state=42)\n",
    "\n",
    "\n",
    "log_reg = LogisticRegressionCV(cv=5, max_iter=1000)\n",
    "dt = GridSearchCV(DecisionTreeClassifier(), param_grid={'max_depth': [3, 5, 10]}, cv=5)\n",
    "rf = GridSearchCV(RandomForestClassifier(), param_grid={'n_estimators': [50, 100, 200]}, cv=5)\n",
    "\n",
    "log_reg.fit(X_train, y_train)\n",
    "dt.fit(X_train, y_train)\n",
    "rf.fit(X_train, y_train)\n",
    "\n",
    "\n",
    "y_pred_log = log_reg.predict(X_test)\n",
    "y_pred_dt = dt.best_estimator_.predict(X_test)\n",
    "y_pred_rf = rf.best_estimator_.predict(X_test)\n",
    "\n",
    "\n",
    "models = {\"Logistic Regression\": y_pred_log, \"Decision Tree\": y_pred_dt, \"Random Forest\": y_pred_rf}\n",
    "plt.figure(figsize=(12, 4))\n",
    "\n",
    "for i, (name, preds) in enumerate(models.items(), 1):\n",
    "    plt.subplot(1, 3, i)\n",
    "    cm = confusion_matrix(y_test, preds)\n",
    "    disp = ConfusionMatrixDisplay(confusion_matrix=cm, display_labels=[\"Edible\", \"Poisonous\"])\n",
    "    disp.plot(cmap='Blues', ax=plt.gca())\n",
    "    plt.title(name)\n",
    "\n",
    "plt.show()"
   ]
  },
  {
   "cell_type": "markdown",
   "metadata": {},
   "source": [
    "### Problem 1 questions\n",
    "\n",
    " - Which model was best?\n",
    " - What were the hyper-parameters of this model.\n",
    " - What were the accuracy, recall, and precision of the model.\n",
    " - Of accuracy, recall, precision, which did you use to decide the best model."
   ]
  },
  {
   "cell_type": "markdown",
   "metadata": {},
   "source": [
    "#### Your responses here:\n",
    "\n",
    "- Which model: random forest classifiers\n",
    "- Hyper-parameters: n-estimators and max depth\n",
    "- Metrics\n",
    "    - Accuracy: 99.8%\n",
    "    - Recall: 99.8%\n",
    "    - Precision: 99.7%\n",
    "- How did you decide best? recall because it prevented from misclassifying poisionous and edible mushrooms"
   ]
  },
  {
   "cell_type": "markdown",
   "metadata": {},
   "source": [
    "## Problem 2\n",
    "\n",
    "The NFL draft is coming up at the end of April. This is when NFL teams get to select college players to join their team. The draft comprises seven rounds over three days (day 1: round 1, day 2: rounds 2 and 3, day 3: rounds 4, 5, 6, 7) with teams taking turns selecting players. Better players tend to go in earlier rounds.\n",
    "\n",
    "In this problem, you will try to predict whether defensive players are drafted on Day 1, 2, or 3 based on their performance in the NFL combine (an assay of physical skills).\n",
    "\n",
    "The data are imported below.\n",
    "\n",
    " - Create a target variable for day 1, day 2, day 3 based on the round drafted.\n",
    " - Create the most accurate predictor you can using any method or subset of the data you choose. *You may not use round as a feature!*\n",
    " - Show the confusion matrix for your model and list the accuracy of your model."
   ]
  },
  {
   "cell_type": "code",
   "execution_count": 3,
   "metadata": {},
   "outputs": [],
   "source": [
    "nfl_draft = pd.read_csv('https://raw.githubusercontent.com/eatai/datasets/refs/heads/main/nfl_defensive_draft.csv')"
   ]
  },
  {
   "cell_type": "code",
   "execution_count": 10,
   "metadata": {},
   "outputs": [
    {
     "name": "stdout",
     "output_type": "stream",
     "text": [
      "Model Accuracy: 0.5197\n"
     ]
    },
    {
     "data": {
      "image/png": "[encoded data removed]",
      "text/plain": [
       "<Figure size 640x480 with 2 Axes>"
      ]
     },
     "metadata": {},
     "output_type": "display_data"
    }
   ],
   "source": [
    "import pandas as pd\n",
    "import numpy as np\n",
    "from sklearn.model_selection import train_test_split, GridSearchCV\n",
    "from sklearn.preprocessing import StandardScaler\n",
    "from sklearn.ensemble import RandomForestClassifier\n",
    "from sklearn.metrics import confusion_matrix, ConfusionMatrixDisplay, accuracy_score\n",
    "import matplotlib.pyplot as plt\n",
    "\n",
    "\n",
    "data_url = \"https://raw.githubusercontent.com/eatai/datasets/refs/heads/main/nfl_defensive_draft.csv\"\n",
    "data = pd.read_csv(data_url)\n",
    "\n",
    "defensive_positions = ['CB', 'S', 'LB', 'DL', 'DE', 'DT'] \n",
    "data = data[data['position'].isin(defensive_positions)]\n",
    "\n",
    "\n",
    "\n",
    "bins = [0, 1, 3, 7]  \n",
    "day_labels = [1, 2, 3] \n",
    "data[\"draft_day\"] = pd.cut(data[\"round\"], bins=bins, labels=day_labels)\n",
    "\n",
    "\n",
    "\n",
    "data = data.drop(columns=[\"round\"])\n",
    "\n",
    "numeric_features = data.select_dtypes(include=[np.number]).columns.tolist()\n",
    "X = data[numeric_features]\n",
    "y = data[\"draft_day\"].astype(int)\n",
    "\n",
    "\n",
    "X_train, X_test, y_train, y_test = train_test_split(X, y, test_size=0.2, random_state=42, stratify=y)\n",
    "\n",
    "\n",
    "scaler = StandardScaler()\n",
    "X_train_scaled = scaler.fit_transform(X_train)\n",
    "X_test_scaled = scaler.transform(X_test)\n",
    "\n",
    "\n",
    "param_grid = {\"n_estimators\": [50, 100, 200], \"max_depth\": [5, 10, 20]}\n",
    "rf = GridSearchCV(RandomForestClassifier(), param_grid, cv=5)\n",
    "rf.fit(X_train_scaled, y_train)\n",
    "\n",
    "\n",
    "y_pred = rf.best_estimator_.predict(X_test_scaled)\n",
    "\n",
    "\n",
    "accuracy = accuracy_score(y_test, y_pred)\n",
    "cm = confusion_matrix(y_test, y_pred)\n",
    "disp = ConfusionMatrixDisplay(confusion_matrix=cm, display_labels=[\"Day 1\", \"Day 2\", \"Day 3\"])\n",
    "\n",
    "\n",
    "print(f\"Model Accuracy: {accuracy:.4f}\")\n",
    "disp.plot(cmap='Blues')\n",
    "plt.title(\"Confusion Matrix - NFL Draft Prediction for Defensive Players\")\n",
    "plt.show()\n"
   ]
  },
  {
   "cell_type": "code",
   "execution_count": 11,
   "metadata": {},
   "outputs": [
    {
     "name": "stdout",
     "output_type": "stream",
     "text": [
      "Model Accuracy: 0.5197\n"
     ]
    }
   ],
   "source": [
    "print(f\"Model Accuracy: {accuracy:.4f}\")\n"
   ]
  },
  {
   "cell_type": "code",
   "execution_count": 9,
   "metadata": {},
   "outputs": [
    {
     "data": {
      "application/vnd.microsoft.datawrangler.viewer.v0+json": {
       "columns": [
        {
         "name": "index",
         "rawType": "int64",
         "type": "integer"
        },
        {
         "name": "Unnamed: 0",
         "rawType": "int64",
         "type": "integer"
        },
        {
         "name": "round",
         "rawType": "int64",
         "type": "integer"
        },
        {
         "name": "season",
         "rawType": "int64",
         "type": "integer"
        },
        {
         "name": "name",
         "rawType": "object",
         "type": "string"
        },
        {
         "name": "age",
         "rawType": "float64",
         "type": "float"
        },
        {
         "name": "position",
         "rawType": "object",
         "type": "string"
        },
        {
         "name": "college_conference",
         "rawType": "object",
         "type": "unknown"
        },
        {
         "name": "height",
         "rawType": "float64",
         "type": "float"
        },
        {
         "name": "weight",
         "rawType": "float64",
         "type": "float"
        },
        {
         "name": "forty",
         "rawType": "float64",
         "type": "float"
        },
        {
         "name": "vertical",
         "rawType": "float64",
         "type": "float"
        },
        {
         "name": "broad_jump",
         "rawType": "float64",
         "type": "float"
        },
        {
         "name": "cone",
         "rawType": "float64",
         "type": "float"
        },
        {
         "name": "shuttle",
         "rawType": "float64",
         "type": "float"
        }
       ],
       "conversionMethod": "pd.DataFrame",
       "ref": "8d04d822-9fd9-4251-89cc-71d7cffd7c22",
       "rows": [
        [
         "0",
         "0",
         "1",
         "2003",
         "Dewayne Robertson",
         "21.0",
         "DL",
         null,
         "6.083333333333333",
         "317.0",
         "5.15",
         null,
         null,
         null,
         null
        ],
        [
         "1",
         "1",
         "1",
         "2003",
         "Terence Newman",
         "25.0",
         "DB",
         "Big Twelve Conference",
         "5.833333333333333",
         "189.0",
         "4.37",
         "41.0",
         "136.0",
         "6.88",
         "3.83"
        ],
        [
         "2",
         "2",
         "1",
         "2003",
         "Johnathan Sullivan",
         "22.0",
         "DL",
         null,
         "6.25",
         "313.0",
         "5.1",
         null,
         null,
         null,
         null
        ],
        [
         "3",
         "3",
         "1",
         "2003",
         "Kevin Williams",
         "23.0",
         "DL",
         null,
         "6.416666666666667",
         "304.0",
         "4.81",
         "30.0",
         "112.0",
         "7.66",
         "5.04"
        ],
        [
         "4",
         "4",
         "1",
         "2003",
         "Terrell Suggs",
         "20.0",
         "LB",
         "Pacific Ten Conference",
         "6.25",
         "262.0",
         "4.84",
         null,
         null,
         null,
         null
        ]
       ],
       "shape": {
        "columns": 14,
        "rows": 5
       }
      },
      "text/html": [
       "<div>\n",
       "<style scoped>\n",
       "    .dataframe tbody tr th:only-of-type {\n",
       "        vertical-align: middle;\n",
       "    }\n",
       "\n",
       "    .dataframe tbody tr th {\n",
       "        vertical-align: top;\n",
       "    }\n",
       "\n",
       "    .dataframe thead th {\n",
       "        text-align: right;\n",
       "    }\n",
       "</style>\n",
       "<table border=\"1\" class=\"dataframe\">\n",
       "  <thead>\n",
       "    <tr style=\"text-align: right;\">\n",
       "      <th></th>\n",
       "      <th>Unnamed: 0</th>\n",
       "      <th>round</th>\n",
       "      <th>season</th>\n",
       "      <th>name</th>\n",
       "      <th>age</th>\n",
       "      <th>position</th>\n",
       "      <th>college_conference</th>\n",
       "      <th>height</th>\n",
       "      <th>weight</th>\n",
       "      <th>forty</th>\n",
       "      <th>vertical</th>\n",
       "      <th>broad_jump</th>\n",
       "      <th>cone</th>\n",
       "      <th>shuttle</th>\n",
       "    </tr>\n",
       "  </thead>\n",
       "  <tbody>\n",
       "    <tr>\n",
       "      <th>0</th>\n",
       "      <td>0</td>\n",
       "      <td>1</td>\n",
       "      <td>2003</td>\n",
       "      <td>Dewayne Robertson</td>\n",
       "      <td>21.0</td>\n",
       "      <td>DL</td>\n",
       "      <td>NaN</td>\n",
       "      <td>6.083333</td>\n",
       "      <td>317.0</td>\n",
       "      <td>5.15</td>\n",
       "      <td>NaN</td>\n",
       "      <td>NaN</td>\n",
       "      <td>NaN</td>\n",
       "      <td>NaN</td>\n",
       "    </tr>\n",
       "    <tr>\n",
       "      <th>1</th>\n",
       "      <td>1</td>\n",
       "      <td>1</td>\n",
       "      <td>2003</td>\n",
       "      <td>Terence Newman</td>\n",
       "      <td>25.0</td>\n",
       "      <td>DB</td>\n",
       "      <td>Big Twelve Conference</td>\n",
       "      <td>5.833333</td>\n",
       "      <td>189.0</td>\n",
       "      <td>4.37</td>\n",
       "      <td>41.0</td>\n",
       "      <td>136.0</td>\n",
       "      <td>6.88</td>\n",
       "      <td>3.83</td>\n",
       "    </tr>\n",
       "    <tr>\n",
       "      <th>2</th>\n",
       "      <td>2</td>\n",
       "      <td>1</td>\n",
       "      <td>2003</td>\n",
       "      <td>Johnathan Sullivan</td>\n",
       "      <td>22.0</td>\n",
       "      <td>DL</td>\n",
       "      <td>NaN</td>\n",
       "      <td>6.250000</td>\n",
       "      <td>313.0</td>\n",
       "      <td>5.10</td>\n",
       "      <td>NaN</td>\n",
       "      <td>NaN</td>\n",
       "      <td>NaN</td>\n",
       "      <td>NaN</td>\n",
       "    </tr>\n",
       "    <tr>\n",
       "      <th>3</th>\n",
       "      <td>3</td>\n",
       "      <td>1</td>\n",
       "      <td>2003</td>\n",
       "      <td>Kevin Williams</td>\n",
       "      <td>23.0</td>\n",
       "      <td>DL</td>\n",
       "      <td>NaN</td>\n",
       "      <td>6.416667</td>\n",
       "      <td>304.0</td>\n",
       "      <td>4.81</td>\n",
       "      <td>30.0</td>\n",
       "      <td>112.0</td>\n",
       "      <td>7.66</td>\n",
       "      <td>5.04</td>\n",
       "    </tr>\n",
       "    <tr>\n",
       "      <th>4</th>\n",
       "      <td>4</td>\n",
       "      <td>1</td>\n",
       "      <td>2003</td>\n",
       "      <td>Terrell Suggs</td>\n",
       "      <td>20.0</td>\n",
       "      <td>LB</td>\n",
       "      <td>Pacific Ten Conference</td>\n",
       "      <td>6.250000</td>\n",
       "      <td>262.0</td>\n",
       "      <td>4.84</td>\n",
       "      <td>NaN</td>\n",
       "      <td>NaN</td>\n",
       "      <td>NaN</td>\n",
       "      <td>NaN</td>\n",
       "    </tr>\n",
       "  </tbody>\n",
       "</table>\n",
       "</div>"
      ],
      "text/plain": [
       "   Unnamed: 0  round  season                name   age position  \\\n",
       "0           0      1    2003   Dewayne Robertson  21.0       DL   \n",
       "1           1      1    2003      Terence Newman  25.0       DB   \n",
       "2           2      1    2003  Johnathan Sullivan  22.0       DL   \n",
       "3           3      1    2003      Kevin Williams  23.0       DL   \n",
       "4           4      1    2003       Terrell Suggs  20.0       LB   \n",
       "\n",
       "       college_conference    height  weight  forty  vertical  broad_jump  \\\n",
       "0                     NaN  6.083333   317.0   5.15       NaN         NaN   \n",
       "1   Big Twelve Conference  5.833333   189.0   4.37      41.0       136.0   \n",
       "2                     NaN  6.250000   313.0   5.10       NaN         NaN   \n",
       "3                     NaN  6.416667   304.0   4.81      30.0       112.0   \n",
       "4  Pacific Ten Conference  6.250000   262.0   4.84       NaN         NaN   \n",
       "\n",
       "   cone  shuttle  \n",
       "0   NaN      NaN  \n",
       "1  6.88     3.83  \n",
       "2   NaN      NaN  \n",
       "3  7.66     5.04  \n",
       "4   NaN      NaN  "
      ]
     },
     "execution_count": 9,
     "metadata": {},
     "output_type": "execute_result"
    }
   ],
   "source": [
    "nfl_draft.head()"
   ]
  },
  {
   "cell_type": "markdown",
   "metadata": {},
   "source": [
    "### Problem 2 Questions\n",
    "\n",
    " - Which kind of model did you use and why did you choose it? \n",
    " random forest classifier because it can model non-linear relationships \n",
    " - What was your accuracy?\n",
    " 51.97%"
   ]
  },
  {
   "cell_type": "markdown",
   "metadata": {},
   "source": []
  }
 ],
 "metadata": {
  "kernelspec": {
   "display_name": "base",
   "language": "python",
   "name": "python3"
  },
  "language_info": {
   "codemirror_mode": {
    "name": "ipython",
    "version": 3
   },
   "file_extension": ".py",
   "mimetype": "text/x-python",
   "name": "python",
   "nbconvert_exporter": "python",
   "pygments_lexer": "ipython3",
   "version": "3.12.4"
  },
  "orig_nbformat": 4
 },
 "nbformat": 4,
 "nbformat_minor": 2
}
